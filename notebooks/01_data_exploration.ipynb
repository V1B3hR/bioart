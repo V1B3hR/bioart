{
 "cells": [
  {
   "cell_type": "markdown",
   "metadata": {},
   "source": [
    "# BioArt Data Exploration\n",
    "\n",
    "This notebook demonstrates data exploration for the BioArt learning process.\n",
    "We'll analyze genomic sequences, microbe images, and haplogroup metadata for artistic feature extraction.\n",
    "\n",
    "**Important**: This is for computational/creative purposes only. No biological function prediction or sequence optimization."
   ]
  },
  {
   "cell_type": "code",
   "execution_count": null,
   "metadata": {},
   "outputs": [],
   "source": [
    "# Setup and imports\n",
    "import sys\n",
    "from pathlib import Path\n",
    "\n",
    "# Add src to path\n",
    "sys.path.insert(0, str(Path().parent / 'src'))\n",
    "\n",
    "import numpy as np\n",
    "import pandas as pd\n",
    "import matplotlib.pyplot as plt\n",
    "from collections import Counter\n",
    "\n",
    "# BioArt modules\n",
    "from data.preprocessing import SequenceProcessor, ImageProcessor, MetadataProcessor\n",
    "from art.palettes import DNAPaletteGenerator\n",
    "from art.prompts import BiologicalPromptGenerator\n",
    "from utils.visualization import plot_gc_distribution, visualize_kmer_spectrum\n",
    "\n",
    "print(\"🧬 BioArt Data Exploration Notebook\")\n",
    "print(\"Educational/artistic use only - no biological function\")"
   ]
  },
  {
   "cell_type": "markdown",
   "metadata": {},
   "source": [
    "## 1. DNA Sequence Analysis"
   ]
  },
  {
   "cell_type": "code",
   "execution_count": null,
   "metadata": {},
   "outputs": [],
   "source": [
    "# Initialize sequence processor\n",
    "seq_processor = SequenceProcessor(kmer_sizes=[3, 4, 5, 6])\n",
    "\n",
    "# Demo sequences for exploration\n",
    "demo_sequences = [\n",
    "    \"ATCGATCGATCGATCG\" * 50,  # Repetitive\n",
    "    \"GCGCGCGCGCGCGCGC\" * 50,  # GC-rich\n",
    "    \"ATATATATATATTAT\" * 50,   # AT-rich\n",
    "    \"ACGTACGTACGTACGT\" * 50,  # Balanced\n",
    "]\n",
    "\n",
    "print(f\"Analyzing {len(demo_sequences)} demo sequences...\")\n",
    "\n",
    "# Extract features\n",
    "features = seq_processor.extract_dna_features(demo_sequences)\n",
    "\n",
    "print(f\"\\nSequence Analysis Results:\")\n",
    "print(f\"Total sequences: {features['metadata']['total_sequences']}\")\n",
    "print(f\"GC content range: {features['gc_content_distribution'].min():.3f} - {features['gc_content_distribution'].max():.3f}\")\n",
    "print(f\"Average complexity: {features['complexity_scores'].mean():.3f}\")"
   ]
  },
  {
   "cell_type": "code",
   "execution_count": null,
   "metadata": {},
   "outputs": [],
   "source": [
    "# Visualize GC content distribution\n",
    "plot_gc_distribution(features['gc_content_distribution'], \"Demo Sequences GC Content\")"
   ]
  },
  {
   "cell_type": "code",
   "execution_count": null,
   "metadata": {},
   "outputs": [],
   "source": [
    "# Visualize k-mer spectrum\n",
    "kmer_4_counts = features['kmer_spectra'][4]\n",
    "visualize_kmer_spectrum(kmer_4_counts, k=4, top_n=15)"
   ]
  },
  {
   "cell_type": "markdown",
   "metadata": {},
   "source": [
    "## 2. Color Palette Generation"
   ]
  },
  {
   "cell_type": "code",
   "execution_count": null,
   "metadata": {},
   "outputs": [],
   "source": [
    "# Initialize palette generator\n",
    "palette_gen = DNAPaletteGenerator()\n",
    "\n",
    "# Generate palettes for different GC contents\n",
    "gc_values = [0.25, 0.50, 0.75]  # AT-rich, balanced, GC-rich\n",
    "palette_names = ['AT-rich', 'Balanced', 'GC-rich']\n",
    "\n",
    "for gc, name in zip(gc_values, palette_names):\n",
    "    palette = palette_gen.gc_palette.generate_palette(gc, num_colors=6)\n",
    "    print(f\"\\n{name} (GC={gc:.1%}) palette:\")\n",
    "    print(f\"Colors: {palette[:3]}...\")  # Show first 3 colors\n",
    "    \n",
    "    # Visualize palette\n",
    "    try:\n",
    "        palette_gen.visualize_palette(palette, f\"{name} DNA Palette\")\n",
    "    except:\n",
    "        print(\"Visualization not available (matplotlib required)\")"
   ]
  },
  {
   "cell_type": "markdown",
   "metadata": {},
   "source": [
    "## 3. Biological Prompt Generation"
   ]
  },
  {
   "cell_type": "code",
   "execution_count": null,
   "metadata": {},
   "outputs": [],
   "source": [
    "# Initialize prompt generator\n",
    "prompt_gen = BiologicalPromptGenerator()\n",
    "\n",
    "# Generate prompts from our demo data\n",
    "for i, gc in enumerate(features['gc_content_distribution']):\n",
    "    print(f\"\\nSequence {i+1} (GC={gc:.1%}):\")\n",
    "    \n",
    "    # Generate different style prompts\n",
    "    styles = ['scientific', 'artistic', 'organic']\n",
    "    for style in styles:\n",
    "        prompt = prompt_gen.generate_from_gc_content(gc, style, 'cellular structure')\n",
    "        print(f\"  {style.capitalize()}: {prompt}\")"
   ]
  },
  {
   "cell_type": "code",
   "execution_count": null,
   "metadata": {},
   "outputs": [],
   "source": [
    "# Generate comprehensive prompts\n",
    "print(\"\\nComprehensive Prompts:\")\n",
    "print(\"=\" * 50)\n",
    "\n",
    "for i in range(3):\n",
    "    gc = features['gc_content_distribution'][i]\n",
    "    kmer_counts = Counter(list(features['kmer_spectra'][4].keys())[:5])  # Sample k-mers\n",
    "    \n",
    "    comprehensive_prompt = prompt_gen.generate_comprehensive_prompt(\n",
    "        gc_content=gc,\n",
    "        kmer_counts=kmer_counts,\n",
    "        haplogroup='R1a',\n",
    "        style='scientific'\n",
    "    )\n",
    "    \n",
    "    print(f\"\\nPrompt {i+1}: {comprehensive_prompt}\")"
   ]
  },
  {
   "cell_type": "markdown",
   "metadata": {},
   "source": [
    "## 4. Multi-modal Feature Integration"
   ]
  },
  {
   "cell_type": "code",
   "execution_count": null,
   "metadata": {},
   "outputs": [],
   "source": [
    "# Simulate complete bioart pipeline\n",
    "from art.composition import BioArtComposer\n",
    "\n",
    "composer = BioArtComposer()\n",
    "\n",
    "# Create biological data package\n",
    "biological_data = {\n",
    "    'dna_features': {\n",
    "        'gc_content_mean': features['gc_content_distribution'].mean(),\n",
    "        'kmer_counts': features['kmer_spectra'][4],\n",
    "        'complexity_mean': features['complexity_scores'].mean()\n",
    "    },\n",
    "    'haplogroup_data': {\n",
    "        'primary_haplogroup': 'R1a',\n",
    "        'distribution': {'R1a': 60, 'R1b': 30, 'I1': 10}\n",
    "    },\n",
    "    'microbe_features': {\n",
    "        'type': 'bacteria',\n",
    "        'dominant_colors': [(120, 80, 200), (200, 150, 100)],\n",
    "        'texture_energy': 45.0\n",
    "    }\n",
    "}\n",
    "\n",
    "print(\"Creating composition plan...\")\n",
    "composition_plan = composer.create_composition_plan(biological_data)\n",
    "\n",
    "print(f\"\\nComposition Plan Summary:\")\n",
    "print(f\"Color scheme: {composition_plan['palette_plan']['color_scheme']}\")\n",
    "print(f\"Layout: {composition_plan['layout_plan']['composition_type']}\")\n",
    "print(f\"Grid size: {composition_plan['layout_plan']['grid_size']}\")\n",
    "print(f\"Symmetry: {composition_plan['layout_plan']['symmetry']}\")"
   ]
  },
  {
   "cell_type": "code",
   "execution_count": null,
   "metadata": {},
   "outputs": [],
   "source": [
    "# Generate art specification\n",
    "print(\"Generating art specification...\")\n",
    "art_spec = composer.generate_art_specification(composition_plan)\n",
    "\n",
    "print(f\"\\nArt Specification:\")\n",
    "print(f\"Palette types: {list(art_spec['palettes'].keys())}\")\n",
    "print(f\"Number of prompts: {len(art_spec['prompts'])}\")\n",
    "\n",
    "print(f\"\\nExample prompts:\")\n",
    "for i, prompt in enumerate(art_spec['prompts'][:2]):\n",
    "    print(f\"  {i+1}: {prompt}\")\n",
    "\n",
    "print(f\"\\nExample palette (combined):\")\n",
    "combined_palette = art_spec['palettes'].get('combined', [])\n",
    "if combined_palette:\n",
    "    print(f\"  Colors: {combined_palette[:3]}...\")  # Show first 3"
   ]
  },
  {
   "cell_type": "markdown",
   "metadata": {},
   "source": [
    "## 5. Summary and Next Steps\n",
    "\n",
    "This notebook demonstrated:\n",
    "\n",
    "1. **DNA Sequence Analysis**: Extracting GC content, k-mer spectra, and complexity scores for artistic mapping\n",
    "2. **Color Palette Generation**: Creating biologically-informed color schemes\n",
    "3. **Prompt Generation**: Converting biological features into descriptive text for generative models\n",
    "4. **Multi-modal Integration**: Combining genomic, visual, and metadata features\n",
    "\n",
    "### Next Steps:\n",
    "\n",
    "1. **Download Real Data**: Use `python scripts/download_data.py --all` to get Kaggle datasets\n",
    "2. **Process Data**: Run preprocessing on real biological datasets\n",
    "3. **Generate Art**: Use `python scripts/generate_art.py` to create bioart\n",
    "4. **Experiment**: Try different artistic parameters and mappings\n",
    "\n",
    "### Ethical Reminder:\n",
    "\n",
    "- This is for **educational and artistic purposes only**\n",
    "- No biological function prediction or sequence optimization\n",
    "- Use only aggregated, non-identifiable features\n",
    "- Respect all dataset licenses and terms of use"
   ]
  },
  {
   "cell_type": "code",
   "execution_count": null,
   "metadata": {},
   "outputs": [],
   "source": [
    "# Final demonstration: simulate complete pipeline\n",
    "print(\"🎨 Final Pipeline Simulation\")\n",
    "print(\"=\" * 40)\n",
    "\n",
    "simulation_results = composer.simulate_generation(art_spec)\n",
    "\n",
    "print(f\"\\nSimulation Results:\")\n",
    "print(f\"Status: {simulation_results['status']}\")\n",
    "print(f\"Generated pieces: {len(simulation_results['generated_pieces'])}\")\n",
    "print(f\"Processing summary:\")\n",
    "for key, value in simulation_results['processing_summary'].items():\n",
    "    print(f\"  {key}: {value}\")\n",
    "\n",
    "print(\"\\n✅ Data exploration completed!\")\n",
    "print(\"Ready to move to the next phase of bioart generation.\")"
   ]
  }
 ],
 "metadata": {
  "kernelspec": {
   "display_name": "Python 3",
   "language": "python",
   "name": "python3"
  },
  "language_info": {
   "codemirror_mode": {
    "name": "ipython",
    "version": 3
   },
   "file_extension": ".py",
   "mimetype": "text/x-python",
   "name": "python",
   "nbconvert_exporter": "python",
   "pygments_lexer": "ipython3",
   "version": "3.8.0"
  }
 },
 "nbformat": 4,
 "nbformat_minor": 4
}